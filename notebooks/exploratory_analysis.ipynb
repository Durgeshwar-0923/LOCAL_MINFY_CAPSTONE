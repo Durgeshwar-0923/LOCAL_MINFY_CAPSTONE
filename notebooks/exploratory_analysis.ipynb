{
 "cells": [
  {
   "cell_type": "markdown",
   "id": "e101674b",
   "metadata": {},
   "source": [
    "# Exploratory Data Analysis\n",
    "\n",
    "This notebook explores the salary dataset, visualizes distributions, and checks for missing values."
   ]
  },
  {
   "cell_type": "code",
   "execution_count": 2,
   "id": "5cb100d2",
   "metadata": {},
   "outputs": [
    {
     "ename": "ModuleNotFoundError",
     "evalue": "No module named 'pandas'",
     "output_type": "error",
     "traceback": [
      "\u001b[31m---------------------------------------------------------------------------\u001b[39m",
      "\u001b[31mModuleNotFoundError\u001b[39m                       Traceback (most recent call last)",
      "\u001b[36mCell\u001b[39m\u001b[36m \u001b[39m\u001b[32mIn[2]\u001b[39m\u001b[32m, line 2\u001b[39m\n\u001b[32m      1\u001b[39m \u001b[38;5;66;03m# Import libraries\u001b[39;00m\n\u001b[32m----> \u001b[39m\u001b[32m2\u001b[39m \u001b[38;5;28;01mimport\u001b[39;00m\u001b[38;5;250m \u001b[39m\u001b[34;01mpandas\u001b[39;00m\u001b[38;5;250m \u001b[39m\u001b[38;5;28;01mas\u001b[39;00m\u001b[38;5;250m \u001b[39m\u001b[34;01mpd\u001b[39;00m\n\u001b[32m      3\u001b[39m \u001b[38;5;28;01mimport\u001b[39;00m\u001b[38;5;250m \u001b[39m\u001b[34;01mmatplotlib\u001b[39;00m\u001b[34;01m.\u001b[39;00m\u001b[34;01mpyplot\u001b[39;00m\u001b[38;5;250m \u001b[39m\u001b[38;5;28;01mas\u001b[39;00m\u001b[38;5;250m \u001b[39m\u001b[34;01mplt\u001b[39;00m\n\u001b[32m      4\u001b[39m \u001b[38;5;28;01mimport\u001b[39;00m\u001b[38;5;250m \u001b[39m\u001b[34;01mseaborn\u001b[39;00m\u001b[38;5;250m \u001b[39m\u001b[38;5;28;01mas\u001b[39;00m\u001b[38;5;250m \u001b[39m\u001b[34;01msns\u001b[39;00m\n",
      "\u001b[31mModuleNotFoundError\u001b[39m: No module named 'pandas'"
     ]
    }
   ],
   "source": [
    "# Import libraries\n",
    "import pandas as pd\n",
    "import matplotlib.pyplot as plt\n",
    "import seaborn as sns"
   ]
  },
  {
   "cell_type": "code",
   "execution_count": null,
   "id": "51cd5eec",
   "metadata": {},
   "outputs": [],
   "source": [
    "# Load CSV into PostgreSQL (run once)\n",
    "from src.data_ingestion.database_operations import load_csv_to_postgres\n",
    "load_csv_to_postgres(\"data/raw/Software_Salaries.csv\")"
   ]
  },
  {
   "cell_type": "code",
   "execution_count": null,
   "id": "34488f7d",
   "metadata": {},
   "outputs": [],
   "source": [
    "# Ingest data from PostgreSQL\n",
    "from src.data_ingestion.data_loader import DataLoader\n",
    "from src.config.config import DatabaseConfig\n",
    "\n",
    "loader = DataLoader(DatabaseConfig())\n",
    "df = loader.load_data()\n",
    "df.head()"
   ]
  },
  {
   "cell_type": "code",
   "execution_count": null,
   "id": "09433d6c",
   "metadata": {},
   "outputs": [],
   "source": [
    "# Summary statistics\n",
    "df.describe(include='all')"
   ]
  },
  {
   "cell_type": "code",
   "execution_count": null,
   "id": "ed20928c",
   "metadata": {},
   "outputs": [],
   "source": [
    "# Missing values\n",
    "df.isnull().sum()"
   ]
  },
  {
   "cell_type": "code",
   "execution_count": null,
   "id": "f4a84f3e",
   "metadata": {},
   "outputs": [],
   "source": [
    "# Distribution plot for total compensation\n",
    "sns.histplot(df['total_compensation'].dropna(), kde=True)\n",
    "plt.title(\"Distribution of Total Compensation\")\n",
    "plt.show()"
   ]
  },
  {
   "cell_type": "code",
   "execution_count": null,
   "id": "6e184b9b",
   "metadata": {},
   "outputs": [],
   "source": [
    "# Automated EDA with Sweetviz\n",
    "import sweetviz as sv\n",
    "report = sv.analyze(df)\n",
    "report.show_html(\"sweetviz_report.html\")"
   ]
  },
  {
   "cell_type": "code",
   "execution_count": null,
   "id": "858f3357",
   "metadata": {},
   "outputs": [],
   "source": [
    "# SHAP summary plot for model interpretability (example, after model training)\n",
    "import shap\n",
    "import xgboost as xgb\n",
    "\n",
    "# Example: fit a simple model for demonstration\n",
    "X = df.drop(columns=[\"total_compensation\"])\n",
    "y = df[\"total_compensation\"]\n",
    "model = xgb.XGBRegressor().fit(X, y)\n",
    "\n",
    "explainer = shap.Explainer(model, X)\n",
    "shap_values = explainer(X)\n",
    "shap.summary_plot(shap_values, X)"
   ]
  }
 ],
 "metadata": {
  "kernelspec": {
   "display_name": "mlcapstone",
   "language": "python",
   "name": "python3"
  },
  "language_info": {
   "codemirror_mode": {
    "name": "ipython",
    "version": 3
   },
   "file_extension": ".py",
   "mimetype": "text/x-python",
   "name": "python",
   "nbconvert_exporter": "python",
   "pygments_lexer": "ipython3",
   "version": "3.10.18"
  }
 },
 "nbformat": 4,
 "nbformat_minor": 5
}
